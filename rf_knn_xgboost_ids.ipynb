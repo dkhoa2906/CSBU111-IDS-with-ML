{
 "cells": [
  {
   "metadata": {},
   "cell_type": "markdown",
   "source": [
    "### **Intrusion Detection System (IDS) Models Evaluation on CICIDS2017 Dataset**\n",
    "\n",
    "#### **Credit**\n",
    "- This project is the final project for the Cybersecurity course.\n",
    "- Class code: CSBU111.P11.KHBC\n",
    "- Lecturer: Dr. Nguyễn Ngọc Tự\n",
    "- Authors: Cao Đăng Khoa [23560023], Nguyễn Quang Minh [23560032]\n",
    " \n",
    "\n",
    "#### **Overview**\n",
    "The goal of this project is to evaluate the performance of three machine learning models on the CICIDS2017 dataset for building a robust Intrusion Detection System (IDS). The models we will evaluate are:\n",
    "\n",
    "1. **Random Forest (RF)**  \n",
    "2. **Random Forest Retrained on Selected Features**  \n",
    "3. **K-Nearest Neighbors (KNN)**  \n",
    "4. **XGBoost**\n",
    "\n",
    "#### **Objectives**\n",
    "- Build a Random Forest (RF) model as the baseline for the Intrusion Detection System (IDS).\n",
    "\n",
    "- Retrain Random Forest using the most important features to enhance its performance.\n",
    "\n",
    "- Combine traditional Machine Learning models (Random Forest) with Deep Learning (ANN) and LightGBM to explore hybrid approaches and improve detection accuracy.\n",
    "\n",
    "- Compare the performance of all evaluated models using key metrics such as accuracy, precision, recall, and F1-score to assess their effectiveness in building a robust Intrusion Detection System."
   ],
   "id": "5af9cb1235cabeb4"
  },
  {
   "cell_type": "markdown",
   "source": [
    "\n",
    "## **1. Install libraries and prepare dataset**"
   ],
   "metadata": {
    "id": "moDzw3KmYQwT"
   },
   "id": "moDzw3KmYQwT"
  },
  {
   "cell_type": "code",
   "id": "initial_id",
   "metadata": {
    "id": "initial_id",
    "colab": {
     "base_uri": "https://localhost:8080/"
    },
    "outputId": "a6775ce7-58e5-4fa8-db31-c13d600d5c71",
    "ExecuteTime": {
     "end_time": "2025-01-18T09:23:21.821880Z",
     "start_time": "2025-01-18T09:23:20.745158Z"
    }
   },
   "source": "!pip install pandas scikit-learn matplotlib seaborn keras tensorflow joblib xgboost",
   "outputs": [
    {
     "name": "stdout",
     "output_type": "stream",
     "text": [
      "Requirement already satisfied: pandas in ./.venv/lib/python3.9/site-packages (2.2.3)\r\n",
      "Requirement already satisfied: scikit-learn in ./.venv/lib/python3.9/site-packages (1.6.1)\r\n",
      "Requirement already satisfied: matplotlib in ./.venv/lib/python3.9/site-packages (3.9.4)\r\n",
      "Requirement already satisfied: seaborn in ./.venv/lib/python3.9/site-packages (0.13.2)\r\n",
      "Requirement already satisfied: keras in ./.venv/lib/python3.9/site-packages (3.8.0)\r\n",
      "Requirement already satisfied: tensorflow in ./.venv/lib/python3.9/site-packages (2.18.0)\r\n",
      "Requirement already satisfied: lightgbm in ./.venv/lib/python3.9/site-packages (4.5.0)\r\n",
      "Requirement already satisfied: numpy>=1.22.4 in ./.venv/lib/python3.9/site-packages (from pandas) (2.0.2)\r\n",
      "Requirement already satisfied: python-dateutil>=2.8.2 in ./.venv/lib/python3.9/site-packages (from pandas) (2.9.0.post0)\r\n",
      "Requirement already satisfied: pytz>=2020.1 in ./.venv/lib/python3.9/site-packages (from pandas) (2024.2)\r\n",
      "Requirement already satisfied: tzdata>=2022.7 in ./.venv/lib/python3.9/site-packages (from pandas) (2024.2)\r\n",
      "Requirement already satisfied: scipy>=1.6.0 in ./.venv/lib/python3.9/site-packages (from scikit-learn) (1.13.1)\r\n",
      "Requirement already satisfied: joblib>=1.2.0 in ./.venv/lib/python3.9/site-packages (from scikit-learn) (1.4.2)\r\n",
      "Requirement already satisfied: threadpoolctl>=3.1.0 in ./.venv/lib/python3.9/site-packages (from scikit-learn) (3.5.0)\r\n",
      "Requirement already satisfied: contourpy>=1.0.1 in ./.venv/lib/python3.9/site-packages (from matplotlib) (1.3.0)\r\n",
      "Requirement already satisfied: cycler>=0.10 in ./.venv/lib/python3.9/site-packages (from matplotlib) (0.12.1)\r\n",
      "Requirement already satisfied: fonttools>=4.22.0 in ./.venv/lib/python3.9/site-packages (from matplotlib) (4.55.3)\r\n",
      "Requirement already satisfied: kiwisolver>=1.3.1 in ./.venv/lib/python3.9/site-packages (from matplotlib) (1.4.7)\r\n",
      "Requirement already satisfied: packaging>=20.0 in ./.venv/lib/python3.9/site-packages (from matplotlib) (24.2)\r\n",
      "Requirement already satisfied: pillow>=8 in ./.venv/lib/python3.9/site-packages (from matplotlib) (11.1.0)\r\n",
      "Requirement already satisfied: pyparsing>=2.3.1 in ./.venv/lib/python3.9/site-packages (from matplotlib) (3.2.1)\r\n",
      "Requirement already satisfied: importlib-resources>=3.2.0 in ./.venv/lib/python3.9/site-packages (from matplotlib) (6.5.2)\r\n",
      "Requirement already satisfied: absl-py in ./.venv/lib/python3.9/site-packages (from keras) (2.1.0)\r\n",
      "Requirement already satisfied: rich in ./.venv/lib/python3.9/site-packages (from keras) (13.9.4)\r\n",
      "Requirement already satisfied: namex in ./.venv/lib/python3.9/site-packages (from keras) (0.0.8)\r\n",
      "Requirement already satisfied: h5py in ./.venv/lib/python3.9/site-packages (from keras) (3.12.1)\r\n",
      "Requirement already satisfied: optree in ./.venv/lib/python3.9/site-packages (from keras) (0.14.0)\r\n",
      "Requirement already satisfied: ml-dtypes in ./.venv/lib/python3.9/site-packages (from keras) (0.4.1)\r\n",
      "Requirement already satisfied: astunparse>=1.6.0 in ./.venv/lib/python3.9/site-packages (from tensorflow) (1.6.3)\r\n",
      "Requirement already satisfied: flatbuffers>=24.3.25 in ./.venv/lib/python3.9/site-packages (from tensorflow) (24.12.23)\r\n",
      "Requirement already satisfied: gast!=0.5.0,!=0.5.1,!=0.5.2,>=0.2.1 in ./.venv/lib/python3.9/site-packages (from tensorflow) (0.6.0)\r\n",
      "Requirement already satisfied: google-pasta>=0.1.1 in ./.venv/lib/python3.9/site-packages (from tensorflow) (0.2.0)\r\n",
      "Requirement already satisfied: libclang>=13.0.0 in ./.venv/lib/python3.9/site-packages (from tensorflow) (18.1.1)\r\n",
      "Requirement already satisfied: opt-einsum>=2.3.2 in ./.venv/lib/python3.9/site-packages (from tensorflow) (3.4.0)\r\n",
      "Requirement already satisfied: protobuf!=4.21.0,!=4.21.1,!=4.21.2,!=4.21.3,!=4.21.4,!=4.21.5,<6.0.0dev,>=3.20.3 in ./.venv/lib/python3.9/site-packages (from tensorflow) (5.29.3)\r\n",
      "Requirement already satisfied: requests<3,>=2.21.0 in ./.venv/lib/python3.9/site-packages (from tensorflow) (2.32.3)\r\n",
      "Requirement already satisfied: setuptools in ./.venv/lib/python3.9/site-packages (from tensorflow) (68.2.0)\r\n",
      "Requirement already satisfied: six>=1.12.0 in ./.venv/lib/python3.9/site-packages (from tensorflow) (1.17.0)\r\n",
      "Requirement already satisfied: termcolor>=1.1.0 in ./.venv/lib/python3.9/site-packages (from tensorflow) (2.5.0)\r\n",
      "Requirement already satisfied: typing-extensions>=3.6.6 in ./.venv/lib/python3.9/site-packages (from tensorflow) (4.12.2)\r\n",
      "Requirement already satisfied: wrapt>=1.11.0 in ./.venv/lib/python3.9/site-packages (from tensorflow) (1.17.2)\r\n",
      "Requirement already satisfied: grpcio<2.0,>=1.24.3 in ./.venv/lib/python3.9/site-packages (from tensorflow) (1.69.0)\r\n",
      "Requirement already satisfied: tensorboard<2.19,>=2.18 in ./.venv/lib/python3.9/site-packages (from tensorflow) (2.18.0)\r\n",
      "Requirement already satisfied: tensorflow-io-gcs-filesystem>=0.23.1 in ./.venv/lib/python3.9/site-packages (from tensorflow) (0.37.1)\r\n",
      "Requirement already satisfied: wheel<1.0,>=0.23.0 in ./.venv/lib/python3.9/site-packages (from astunparse>=1.6.0->tensorflow) (0.41.2)\r\n",
      "Requirement already satisfied: zipp>=3.1.0 in ./.venv/lib/python3.9/site-packages (from importlib-resources>=3.2.0->matplotlib) (3.21.0)\r\n",
      "Requirement already satisfied: charset-normalizer<4,>=2 in ./.venv/lib/python3.9/site-packages (from requests<3,>=2.21.0->tensorflow) (3.4.1)\r\n",
      "Requirement already satisfied: idna<4,>=2.5 in ./.venv/lib/python3.9/site-packages (from requests<3,>=2.21.0->tensorflow) (3.10)\r\n",
      "Requirement already satisfied: urllib3<3,>=1.21.1 in ./.venv/lib/python3.9/site-packages (from requests<3,>=2.21.0->tensorflow) (2.3.0)\r\n",
      "Requirement already satisfied: certifi>=2017.4.17 in ./.venv/lib/python3.9/site-packages (from requests<3,>=2.21.0->tensorflow) (2024.12.14)\r\n",
      "Requirement already satisfied: markdown>=2.6.8 in ./.venv/lib/python3.9/site-packages (from tensorboard<2.19,>=2.18->tensorflow) (3.7)\r\n",
      "Requirement already satisfied: tensorboard-data-server<0.8.0,>=0.7.0 in ./.venv/lib/python3.9/site-packages (from tensorboard<2.19,>=2.18->tensorflow) (0.7.2)\r\n",
      "Requirement already satisfied: werkzeug>=1.0.1 in ./.venv/lib/python3.9/site-packages (from tensorboard<2.19,>=2.18->tensorflow) (3.1.3)\r\n",
      "Requirement already satisfied: markdown-it-py>=2.2.0 in ./.venv/lib/python3.9/site-packages (from rich->keras) (3.0.0)\r\n",
      "Requirement already satisfied: pygments<3.0.0,>=2.13.0 in ./.venv/lib/python3.9/site-packages (from rich->keras) (2.19.1)\r\n",
      "Requirement already satisfied: importlib-metadata>=4.4 in ./.venv/lib/python3.9/site-packages (from markdown>=2.6.8->tensorboard<2.19,>=2.18->tensorflow) (8.5.0)\r\n",
      "Requirement already satisfied: mdurl~=0.1 in ./.venv/lib/python3.9/site-packages (from markdown-it-py>=2.2.0->rich->keras) (0.1.2)\r\n",
      "Requirement already satisfied: MarkupSafe>=2.1.1 in ./.venv/lib/python3.9/site-packages (from werkzeug>=1.0.1->tensorboard<2.19,>=2.18->tensorflow) (3.0.2)\r\n",
      "\r\n",
      "\u001B[1m[\u001B[0m\u001B[34;49mnotice\u001B[0m\u001B[1;39;49m]\u001B[0m\u001B[39;49m A new release of pip is available: \u001B[0m\u001B[31;49m23.2.1\u001B[0m\u001B[39;49m -> \u001B[0m\u001B[32;49m24.3.1\u001B[0m\r\n",
      "\u001B[1m[\u001B[0m\u001B[34;49mnotice\u001B[0m\u001B[1;39;49m]\u001B[0m\u001B[39;49m To update, run: \u001B[0m\u001B[32;49mpip install --upgrade pip\u001B[0m\r\n"
     ]
    }
   ],
   "execution_count": 21
  },
  {
   "cell_type": "code",
   "source": [
    "!wget -q http://205.174.165.80/CICDataset/CIC-IDS-2017/Dataset/CIC-IDS-2017/CSVs/MachineLearningCSV.zip -O dataset.zip\n",
    "!unzip -q dataset.zip -d dataset/"
   ],
   "metadata": {
    "id": "qy0Q6FmCXBlX",
    "colab": {
     "base_uri": "https://localhost:8080/"
    },
    "outputId": "de2ffaa5-5cc9-4d9a-f1e0-93aafa56e6fc"
   },
   "id": "qy0Q6FmCXBlX",
   "outputs": [],
   "execution_count": null
  },
  {
   "metadata": {},
   "cell_type": "markdown",
   "source": "## **2. Load the dataset and preprocess**",
   "id": "ef7f18bb89682506"
  },
  {
   "metadata": {
    "id": "56452dc30f876825",
    "colab": {
     "base_uri": "https://localhost:8080/"
    },
    "outputId": "a8f824cb-c94d-4170-f540-18bc149a4a12",
    "ExecuteTime": {
     "end_time": "2025-01-18T21:18:31.538956Z",
     "start_time": "2025-01-18T21:18:22.984046Z"
    }
   },
   "cell_type": "code",
   "source": [
    "\"\"\"Load the dataset\"\"\"\n",
    "\n",
    "import os\n",
    "import pandas as pd\n",
    "\n",
    "folder_path = 'dataset/MachineLearningCVE/'  \n",
    "csv_files = [f for f in os.listdir(folder_path) if f.endswith('.csv')]\n",
    "\n",
    "dataframes = {}\n",
    "for file in csv_files:\n",
    "    file_path = os.path.join(folder_path, file)\n",
    "    dataframes[file] = pd.read_csv(file_path)\n",
    "    print(f\"Loaded {file}: {dataframes[file].shape[0]} rows, \"\n",
    "          f\"{dataframes[file].shape[1]} columns\")\n",
    "\n",
    "df = pd.concat(dataframes.values(), ignore_index=True)\n",
    "df.columns = df.columns.str.strip()\n"
   ],
   "id": "56452dc30f876825",
   "outputs": [
    {
     "name": "stdout",
     "output_type": "stream",
     "text": [
      "Loaded Thursday-WorkingHours-Afternoon-Infilteration.pcap_ISCX.csv: 288602 rows, 79 columns\n",
      "Loaded Monday-WorkingHours.pcap_ISCX.csv: 529918 rows, 79 columns\n",
      "Loaded Friday-WorkingHours-Morning.pcap_ISCX.csv: 191033 rows, 79 columns\n",
      "Loaded Friday-WorkingHours-Afternoon-PortScan.pcap_ISCX.csv: 286467 rows, 79 columns\n",
      "Loaded Friday-WorkingHours-Afternoon-DDos.pcap_ISCX.csv: 225745 rows, 79 columns\n",
      "Loaded Tuesday-WorkingHours.pcap_ISCX.csv: 445909 rows, 79 columns\n",
      "Loaded Wednesday-workingHours.pcap_ISCX.csv: 692703 rows, 79 columns\n",
      "Loaded Thursday-WorkingHours-Morning-WebAttacks.pcap_ISCX.csv: 170366 rows, 79 columns\n"
     ]
    }
   ],
   "execution_count": 1
  },
  {
   "metadata": {
    "id": "9402948879fc16b6",
    "colab": {
     "base_uri": "https://localhost:8080/"
    },
    "outputId": "547007de-ef02-4874-8e79-5877f663c0ba",
    "ExecuteTime": {
     "end_time": "2025-01-18T21:18:36.148279Z",
     "start_time": "2025-01-18T21:18:36.059224Z"
    }
   },
   "cell_type": "code",
   "source": [
    "\"\"\"Test the dataset by printing its overview info\"\"\"\n",
    "\n",
    "print(\"Dataset Info:\")\n",
    "print(df.info())\n",
    "\n",
    "# Check class distribution\n",
    "print(\"\\nClass Distribution:\")\n",
    "print(df['Label'].value_counts(normalize=True))\n"
   ],
   "id": "9402948879fc16b6",
   "outputs": [
    {
     "name": "stdout",
     "output_type": "stream",
     "text": [
      "Dataset Info:\n",
      "<class 'pandas.core.frame.DataFrame'>\n",
      "RangeIndex: 2830743 entries, 0 to 2830742\n",
      "Data columns (total 79 columns):\n",
      " #   Column                       Dtype  \n",
      "---  ------                       -----  \n",
      " 0   Destination Port             int64  \n",
      " 1   Flow Duration                int64  \n",
      " 2   Total Fwd Packets            int64  \n",
      " 3   Total Backward Packets       int64  \n",
      " 4   Total Length of Fwd Packets  int64  \n",
      " 5   Total Length of Bwd Packets  int64  \n",
      " 6   Fwd Packet Length Max        int64  \n",
      " 7   Fwd Packet Length Min        int64  \n",
      " 8   Fwd Packet Length Mean       float64\n",
      " 9   Fwd Packet Length Std        float64\n",
      " 10  Bwd Packet Length Max        int64  \n",
      " 11  Bwd Packet Length Min        int64  \n",
      " 12  Bwd Packet Length Mean       float64\n",
      " 13  Bwd Packet Length Std        float64\n",
      " 14  Flow Bytes/s                 float64\n",
      " 15  Flow Packets/s               float64\n",
      " 16  Flow IAT Mean                float64\n",
      " 17  Flow IAT Std                 float64\n",
      " 18  Flow IAT Max                 int64  \n",
      " 19  Flow IAT Min                 int64  \n",
      " 20  Fwd IAT Total                int64  \n",
      " 21  Fwd IAT Mean                 float64\n",
      " 22  Fwd IAT Std                  float64\n",
      " 23  Fwd IAT Max                  int64  \n",
      " 24  Fwd IAT Min                  int64  \n",
      " 25  Bwd IAT Total                int64  \n",
      " 26  Bwd IAT Mean                 float64\n",
      " 27  Bwd IAT Std                  float64\n",
      " 28  Bwd IAT Max                  int64  \n",
      " 29  Bwd IAT Min                  int64  \n",
      " 30  Fwd PSH Flags                int64  \n",
      " 31  Bwd PSH Flags                int64  \n",
      " 32  Fwd URG Flags                int64  \n",
      " 33  Bwd URG Flags                int64  \n",
      " 34  Fwd Header Length            int64  \n",
      " 35  Bwd Header Length            int64  \n",
      " 36  Fwd Packets/s                float64\n",
      " 37  Bwd Packets/s                float64\n",
      " 38  Min Packet Length            int64  \n",
      " 39  Max Packet Length            int64  \n",
      " 40  Packet Length Mean           float64\n",
      " 41  Packet Length Std            float64\n",
      " 42  Packet Length Variance       float64\n",
      " 43  FIN Flag Count               int64  \n",
      " 44  SYN Flag Count               int64  \n",
      " 45  RST Flag Count               int64  \n",
      " 46  PSH Flag Count               int64  \n",
      " 47  ACK Flag Count               int64  \n",
      " 48  URG Flag Count               int64  \n",
      " 49  CWE Flag Count               int64  \n",
      " 50  ECE Flag Count               int64  \n",
      " 51  Down/Up Ratio                int64  \n",
      " 52  Average Packet Size          float64\n",
      " 53  Avg Fwd Segment Size         float64\n",
      " 54  Avg Bwd Segment Size         float64\n",
      " 55  Fwd Header Length.1          int64  \n",
      " 56  Fwd Avg Bytes/Bulk           int64  \n",
      " 57  Fwd Avg Packets/Bulk         int64  \n",
      " 58  Fwd Avg Bulk Rate            int64  \n",
      " 59  Bwd Avg Bytes/Bulk           int64  \n",
      " 60  Bwd Avg Packets/Bulk         int64  \n",
      " 61  Bwd Avg Bulk Rate            int64  \n",
      " 62  Subflow Fwd Packets          int64  \n",
      " 63  Subflow Fwd Bytes            int64  \n",
      " 64  Subflow Bwd Packets          int64  \n",
      " 65  Subflow Bwd Bytes            int64  \n",
      " 66  Init_Win_bytes_forward       int64  \n",
      " 67  Init_Win_bytes_backward      int64  \n",
      " 68  act_data_pkt_fwd             int64  \n",
      " 69  min_seg_size_forward         int64  \n",
      " 70  Active Mean                  float64\n",
      " 71  Active Std                   float64\n",
      " 72  Active Max                   int64  \n",
      " 73  Active Min                   int64  \n",
      " 74  Idle Mean                    float64\n",
      " 75  Idle Std                     float64\n",
      " 76  Idle Max                     int64  \n",
      " 77  Idle Min                     int64  \n",
      " 78  Label                        object \n",
      "dtypes: float64(24), int64(54), object(1)\n",
      "memory usage: 1.7+ GB\n",
      "None\n",
      "\n",
      "Class Distribution:\n",
      "Label\n",
      "BENIGN                        0.803004\n",
      "DoS Hulk                      0.081630\n",
      "PortScan                      0.056144\n",
      "DDoS                          0.045227\n",
      "DoS GoldenEye                 0.003636\n",
      "FTP-Patator                   0.002804\n",
      "SSH-Patator                   0.002083\n",
      "DoS slowloris                 0.002048\n",
      "DoS Slowhttptest              0.001943\n",
      "Bot                           0.000695\n",
      "Web Attack � Brute Force      0.000532\n",
      "Web Attack � XSS              0.000230\n",
      "Infiltration                  0.000013\n",
      "Web Attack � Sql Injection    0.000007\n",
      "Heartbleed                    0.000004\n",
      "Name: proportion, dtype: float64\n"
     ]
    }
   ],
   "execution_count": 2
  },
  {
   "metadata": {
    "ExecuteTime": {
     "end_time": "2025-01-18T21:18:38.355596Z",
     "start_time": "2025-01-18T21:18:38.025918Z"
    }
   },
   "cell_type": "code",
   "source": [
    "\"\"\"Encode the Label Column\"\"\"\n",
    "\n",
    "from sklearn.preprocessing import LabelEncoder\n",
    "\n",
    "encoder = LabelEncoder()\n",
    "df['Label'] = encoder.fit_transform(df['Label'])\n",
    "print(\"Classes in Label:\", dict(enumerate(encoder.classes_)))"
   ],
   "id": "53dde134ed4cbcbf",
   "outputs": [
    {
     "name": "stdout",
     "output_type": "stream",
     "text": [
      "Classes in Label: {0: 'BENIGN', 1: 'Bot', 2: 'DDoS', 3: 'DoS GoldenEye', 4: 'DoS Hulk', 5: 'DoS Slowhttptest', 6: 'DoS slowloris', 7: 'FTP-Patator', 8: 'Heartbleed', 9: 'Infiltration', 10: 'PortScan', 11: 'SSH-Patator', 12: 'Web Attack � Brute Force', 13: 'Web Attack � Sql Injection', 14: 'Web Attack � XSS'}\n"
     ]
    }
   ],
   "execution_count": 3
  },
  {
   "metadata": {
    "ExecuteTime": {
     "end_time": "2025-01-18T21:18:39.964252Z",
     "start_time": "2025-01-18T21:18:39.370500Z"
    }
   },
   "cell_type": "code",
   "source": [
    "\"\"\"Split the dataset into features (X) and target (y)\"\"\"\n",
    "\n",
    "X = df.drop(['Label'], axis=1)\n",
    "y = df['Label']  "
   ],
   "id": "9abe9b999eb09e52",
   "outputs": [],
   "execution_count": 4
  },
  {
   "metadata": {
    "ExecuteTime": {
     "end_time": "2025-01-18T21:18:42.850944Z",
     "start_time": "2025-01-18T21:18:40.988363Z"
    }
   },
   "cell_type": "code",
   "source": [
    "\"\"\"Split data into training and testing sets\"\"\"\n",
    "\"\"\"In this case we use 80% of the data for training and 20% for testing\"\"\"\n",
    "\n",
    "from sklearn.model_selection import train_test_split\n",
    "\n",
    "X_train, X_test, y_train, y_test = train_test_split(X, y, test_size=0.2, random_state=42, stratify=y)"
   ],
   "id": "f27c2d42f4fd68bc",
   "outputs": [],
   "execution_count": 5
  },
  {
   "metadata": {
    "ExecuteTime": {
     "end_time": "2025-01-18T21:18:48.177703Z",
     "start_time": "2025-01-18T21:18:43.656574Z"
    }
   },
   "cell_type": "code",
   "source": [
    "\"\"\"Handle Infinite Values and NaN\"\"\"\n",
    "\n",
    "import numpy as np\n",
    "from sklearn.impute import SimpleImputer\n",
    "\n",
    "# Replace infinity values with NaN\n",
    "X_train = np.where(np.isinf(X_train), np.nan, X_train)\n",
    "X_test = np.where(np.isinf(X_test), np.nan, X_test)\n",
    "\n",
    "# Impute missing values\n",
    "imputer = SimpleImputer(strategy='mean')\n",
    "X_train = imputer.fit_transform(X_train)\n",
    "X_test = imputer.transform(X_test)"
   ],
   "id": "cb9162379663ba71",
   "outputs": [],
   "execution_count": 6
  },
  {
   "metadata": {
    "ExecuteTime": {
     "end_time": "2025-01-18T21:18:48.626026Z",
     "start_time": "2025-01-18T21:18:48.183979Z"
    }
   },
   "cell_type": "code",
   "source": [
    "\"\"\"Scale the data\"\"\"\n",
    "\n",
    "from sklearn.preprocessing import MinMaxScaler\n",
    "\n",
    "scaler = MinMaxScaler()\n",
    "X_train = scaler.fit_transform(X_train)\n",
    "X_test = scaler.transform(X_test)"
   ],
   "id": "544248cd039647db",
   "outputs": [],
   "execution_count": 7
  },
  {
   "metadata": {
    "id": "40f0eab379ffde78"
   },
   "cell_type": "markdown",
   "source": [
    "\n",
    "## **3. Random Forest Model train**"
   ],
   "id": "40f0eab379ffde78"
  },
  {
   "metadata": {
    "ExecuteTime": {
     "end_time": "2025-01-18T22:02:34.509961Z",
     "start_time": "2025-01-18T22:00:42.358712Z"
    }
   },
   "cell_type": "code",
   "source": [
    "\"\"\"Random Forest Model train\"\"\"\n",
    "\n",
    "import time\n",
    "from sklearn.ensemble import RandomForestClassifier\n",
    "import pandas as pd\n",
    "\n",
    "rf = RandomForestClassifier(n_estimators=100, random_state=42, n_jobs=-1)\n",
    "start_train = time.time()\n",
    "rf.fit(X_train, y_train)\n",
    "end_train = time.time()\n",
    "\n",
    "print(\"Random Forest Model trained successfully!\")\n",
    "print(\"Training time:\", end_train - start_train)"
   ],
   "id": "9db6ab9dd81a2666",
   "outputs": [
    {
     "name": "stdout",
     "output_type": "stream",
     "text": [
      "Random Forest Model trained successfully!\n",
      "Training time: 112.1305730342865\n"
     ]
    }
   ],
   "execution_count": 21
  },
  {
   "metadata": {
    "ExecuteTime": {
     "end_time": "2025-01-18T22:02:34.744691Z",
     "start_time": "2025-01-18T22:02:34.526002Z"
    }
   },
   "cell_type": "code",
   "source": [
    "\"\"\"Select important features\"\"\" \n",
    "\n",
    "feature_importances = rf.feature_importances_\n",
    "important_features = np.where(feature_importances > 0.01)[0]\n",
    "\n",
    "X_train_rf_retrained = X_train[:, important_features]\n",
    "X_test_rf_retrained = X_test[:, important_features]\n",
    "\n",
    "print(f\"Selected {len(important_features)} important features.\")"
   ],
   "id": "2aa554bbc0b4e3b6",
   "outputs": [
    {
     "name": "stdout",
     "output_type": "stream",
     "text": [
      "Selected 32 important features.\n"
     ]
    }
   ],
   "execution_count": 22
  },
  {
   "metadata": {
    "ExecuteTime": {
     "end_time": "2025-01-18T22:02:35.463883Z",
     "start_time": "2025-01-18T22:02:35.457659Z"
    }
   },
   "cell_type": "code",
   "source": [
    "\"\"\"Display top features\"\"\" \n",
    "\n",
    "feature_names = X.columns\n",
    "importance_df = pd.DataFrame({'Feature': feature_names, 'Importance': feature_importances})\n",
    "importance_df.sort_values(by='Importance', ascending=False, inplace=True)\n",
    "\n",
    "print(\"Top 10 Important Features:\")\n",
    "print(importance_df.head(10))"
   ],
   "id": "f78fc29143be3055",
   "outputs": [
    {
     "name": "stdout",
     "output_type": "stream",
     "text": [
      "Top 10 Important Features:\n",
      "                        Feature  Importance\n",
      "41            Packet Length Std    0.060475\n",
      "42       Packet Length Variance    0.055753\n",
      "39            Max Packet Length    0.049468\n",
      "54         Avg Bwd Segment Size    0.045052\n",
      "63            Subflow Fwd Bytes    0.041704\n",
      "0              Destination Port    0.041392\n",
      "52          Average Packet Size    0.038693\n",
      "10        Bwd Packet Length Max    0.034049\n",
      "13        Bwd Packet Length Std    0.033553\n",
      "5   Total Length of Bwd Packets    0.033237\n"
     ]
    }
   ],
   "execution_count": 23
  },
  {
   "metadata": {
    "id": "c57e459cdbd8f039",
    "colab": {
     "base_uri": "https://localhost:8080/"
    },
    "outputId": "e8ed3b1d-4f5f-4699-aa67-a0aef37d6bc0",
    "ExecuteTime": {
     "end_time": "2025-01-18T22:04:13.366927Z",
     "start_time": "2025-01-18T22:02:35.870583Z"
    }
   },
   "cell_type": "code",
   "source": [
    "\"\"\"Retrain Random Forest using selected important features\"\"\"\n",
    "\n",
    "rf_retrained = RandomForestClassifier(n_estimators=100, random_state=42, n_jobs=-1)\n",
    "start_train = time.time()\n",
    "rf_retrained.fit(X_train_rf_retrained, y_train)\n",
    "end_train = time.time()\n",
    "\n",
    "print(\"Random Forest Model retrained successfully!\")\n",
    "print(\"Training time:\", end_train - start_train)"
   ],
   "id": "c57e459cdbd8f039",
   "outputs": [
    {
     "name": "stdout",
     "output_type": "stream",
     "text": [
      "Random Forest Model retrained successfully!\n",
      "Training time: 97.48582601547241\n"
     ]
    }
   ],
   "execution_count": 24
  },
  {
   "metadata": {},
   "cell_type": "markdown",
   "source": [
    "\n",
    "## **4. K-Nearest Neighbors Model Train**"
   ],
   "id": "19a4e9f0befae949"
  },
  {
   "metadata": {
    "ExecuteTime": {
     "end_time": "2025-01-18T22:04:15.053358Z",
     "start_time": "2025-01-18T22:04:13.981815Z"
    }
   },
   "cell_type": "code",
   "source": [
    "\"\"\"K-Nearest Neighbors Model train\"\"\"\n",
    "\n",
    "from sklearn.neighbors import KNeighborsClassifier\n",
    "\n",
    "knn = KNeighborsClassifier(n_neighbors=10)\n",
    "start_train = time.time()\n",
    "knn.fit(X_train, y_train)\n",
    "end_train = time.time()\n",
    "\n",
    "print(\"KNN Model trained successfully!\")\n",
    "print(\"Training time:\", end_train - start_train)"
   ],
   "id": "92f67c430a24847d",
   "outputs": [
    {
     "name": "stdout",
     "output_type": "stream",
     "text": [
      "KNN Model trained successfully!\n",
      "Training time: 1.0145161151885986\n"
     ]
    }
   ],
   "execution_count": 25
  },
  {
   "metadata": {},
   "cell_type": "markdown",
   "source": [
    "\n",
    "## **5. XGBoost Model Train**"
   ],
   "id": "34874f8674bfd0f8"
  },
  {
   "metadata": {
    "ExecuteTime": {
     "end_time": "2025-01-18T22:05:41.254163Z",
     "start_time": "2025-01-18T22:04:16.273387Z"
    }
   },
   "cell_type": "code",
   "source": [
    "\"\"\"XGBoost Model train\"\"\"\n",
    "\n",
    "import xgboost as xgb\n",
    "\n",
    "xgboost = xgb.XGBClassifier(objective='binary:logistic', eval_metric='logloss', n_jobs=-1)\n",
    "start_train = time.time()\n",
    "xgboost.fit(X_train, y_train)\n",
    "end_train = time.time()\n",
    "\n",
    "print(\"XGBoost Model trained successfully!\")\n",
    "print(\"Training time:\", end_train - start_train)"
   ],
   "id": "65237af50013847a",
   "outputs": [
    {
     "name": "stdout",
     "output_type": "stream",
     "text": [
      "XGBoost Model trained successfully!\n",
      "Training time: 84.96575999259949\n"
     ]
    }
   ],
   "execution_count": 26
  },
  {
   "metadata": {},
   "cell_type": "markdown",
   "source": "## **6. Save and Load all Models**",
   "id": "ecfff43340436d3e"
  },
  {
   "metadata": {
    "ExecuteTime": {
     "end_time": "2025-01-18T22:05:42.117848Z",
     "start_time": "2025-01-18T22:05:41.263867Z"
    }
   },
   "cell_type": "code",
   "source": [
    "\"\"\"Save all Models for later uses\"\"\"\n",
    "\n",
    "import joblib\n",
    "\n",
    "joblib.dump(rf, 'rf_model.pkl')\n",
    "joblib.dump(rf_retrained, 'rf_retrained_model.pkl')\n",
    "joblib.dump(knn, 'knn_model.pkl')\n",
    "xgboost.save_model('xgboost_model.json')"
   ],
   "id": "a56f27f7212b8696",
   "outputs": [],
   "execution_count": 27
  },
  {
   "metadata": {
    "ExecuteTime": {
     "end_time": "2025-01-18T21:11:34.061531Z",
     "start_time": "2025-01-18T21:11:32.780669Z"
    }
   },
   "cell_type": "code",
   "source": [
    "\"\"\"Load all Models\"\"\"\n",
    "\n",
    "# Load the Random Forest model\n",
    "rf = joblib.load('rf_model.pkl')\n",
    "print(\"Random Forest Model loaded successfully!\")\n",
    "\n",
    "# Load the Retrained Random Forest model\n",
    "rf_retrained = joblib.load('rf_retrained_model.pkl')\n",
    "print(\"Retrained Random Forest Model loaded successfully!\")\n",
    "\n",
    "# Load KNN model\n",
    "knn = joblib.load('knn_model.pkl')\n",
    "print(\"K-Nearest Neighbors Model loaded successfully!\")\n",
    "\n",
    "# Load XGBoost model\n",
    "xgboost = xgb.Booster()\n",
    "xgboost.load_model('xgboost_model.json')\n",
    "print(\"XGBoost Model loaded successfully!\")\n"
   ],
   "id": "97c8a13103b25085",
   "outputs": [
    {
     "name": "stdout",
     "output_type": "stream",
     "text": [
      "Random Forest Model loaded successfully!\n",
      "Retrained Random Forest Model loaded successfully!\n",
      "K-Nearest Neighbors Model loaded successfully!\n",
      "XGBoost Model loaded successfully!\n"
     ]
    }
   ],
   "execution_count": 116
  },
  {
   "metadata": {},
   "cell_type": "markdown",
   "source": "## **7. Evaluate the Models**",
   "id": "9e1f781db36e1e25"
  },
  {
   "metadata": {
    "id": "nGUMnROnUAN6",
    "colab": {
     "base_uri": "https://localhost:8080/"
    },
    "outputId": "a168c38b-5596-4f3d-9c14-9de10cbc0adf",
    "ExecuteTime": {
     "end_time": "2025-01-18T22:05:44.838027Z",
     "start_time": "2025-01-18T22:05:43.529708Z"
    }
   },
   "cell_type": "code",
   "source": [
    "\"\"\"Evaluate the Random Forest Model\"\"\"\n",
    "\n",
    "from sklearn.metrics import classification_report\n",
    "\n",
    "start_test = time.time()\n",
    "rf_pred = rf.predict(X_test)\n",
    "end_test = time.time()\n",
    "\n",
    "print(\"Random Forest Evaluation:\")\n",
    "print(classification_report(y_test, rf_pred))\n",
    "print(\"\\nTest time:\", end_test - start_test)"
   ],
   "id": "nGUMnROnUAN6",
   "outputs": [
    {
     "name": "stdout",
     "output_type": "stream",
     "text": [
      "Random Forest Evaluation:\n",
      "              precision    recall  f1-score   support\n",
      "\n",
      "           0       1.00      1.00      1.00    454620\n",
      "           1       0.88      0.79      0.83       393\n",
      "           2       1.00      1.00      1.00     25606\n",
      "           3       1.00      0.99      1.00      2059\n",
      "           4       1.00      1.00      1.00     46215\n",
      "           5       0.99      0.99      0.99      1100\n",
      "           6       0.99      0.99      0.99      1159\n",
      "           7       1.00      1.00      1.00      1588\n",
      "           8       1.00      1.00      1.00         2\n",
      "           9       0.86      0.86      0.86         7\n",
      "          10       0.99      1.00      1.00     31786\n",
      "          11       1.00      1.00      1.00      1179\n",
      "          12       0.75      0.84      0.79       301\n",
      "          13       0.33      0.25      0.29         4\n",
      "          14       0.49      0.32      0.38       130\n",
      "\n",
      "    accuracy                           1.00    566149\n",
      "   macro avg       0.89      0.87      0.87    566149\n",
      "weighted avg       1.00      1.00      1.00    566149\n",
      "\n",
      "\n",
      "Test time: 1.200078010559082\n"
     ]
    }
   ],
   "execution_count": 28
  },
  {
   "metadata": {
    "ExecuteTime": {
     "end_time": "2025-01-18T22:05:45.922004Z",
     "start_time": "2025-01-18T22:05:44.849280Z"
    }
   },
   "cell_type": "code",
   "source": [
    "\"\"\"Evaluate the Retrained Random Forest Model\"\"\"\n",
    "\n",
    "start_test = time.time()\n",
    "rf_retrained_pred = rf_retrained.predict(X_test_rf_retrained)\n",
    "end_test = time.time()\n",
    "\n",
    "print(\"Retrained Random Forest Evaluation:\")\n",
    "print(classification_report(y_test, rf_retrained_pred))\n",
    "print(\"\\nTest time:\", end_test - start_test)"
   ],
   "id": "75b8a545a221338f",
   "outputs": [
    {
     "name": "stdout",
     "output_type": "stream",
     "text": [
      "Retrained Random Forest Evaluation:\n",
      "              precision    recall  f1-score   support\n",
      "\n",
      "           0       1.00      1.00      1.00    454620\n",
      "           1       0.85      0.81      0.83       393\n",
      "           2       1.00      1.00      1.00     25606\n",
      "           3       1.00      1.00      1.00      2059\n",
      "           4       1.00      1.00      1.00     46215\n",
      "           5       0.99      0.99      0.99      1100\n",
      "           6       1.00      1.00      1.00      1159\n",
      "           7       1.00      1.00      1.00      1588\n",
      "           8       1.00      1.00      1.00         2\n",
      "           9       1.00      0.86      0.92         7\n",
      "          10       0.99      1.00      1.00     31786\n",
      "          11       1.00      1.00      1.00      1179\n",
      "          12       0.74      0.77      0.76       301\n",
      "          13       0.00      0.00      0.00         4\n",
      "          14       0.40      0.31      0.35       130\n",
      "\n",
      "    accuracy                           1.00    566149\n",
      "   macro avg       0.86      0.85      0.86    566149\n",
      "weighted avg       1.00      1.00      1.00    566149\n",
      "\n",
      "\n",
      "Test time: 0.96492600440979\n"
     ]
    }
   ],
   "execution_count": 29
  },
  {
   "metadata": {
    "ExecuteTime": {
     "end_time": "2025-01-18T22:56:56.011729Z",
     "start_time": "2025-01-18T22:40:04.978072Z"
    }
   },
   "cell_type": "code",
   "source": [
    "\"\"\"Evaluate the K-Nearest Neighbors Model\"\"\"\n",
    "\n",
    "start_test = time.time()\n",
    "knn_pred = knn.predict(X_test)\n",
    "end_test = time.time()\n",
    "\n",
    "print(\"K-Nearest Neighbor Evaluation:\")\n",
    "print(classification_report(y_test, knn_pred))\n",
    "print(\"\\nTest time:\", end_test - start_test)"
   ],
   "id": "3ab3b78779813756",
   "outputs": [
    {
     "name": "stdout",
     "output_type": "stream",
     "text": [
      "K-Nearest Neighbor Evaluation:\n",
      "              precision    recall  f1-score   support\n",
      "\n",
      "           0       1.00      0.99      1.00    454620\n",
      "           1       0.79      0.63      0.70       393\n",
      "           2       1.00      1.00      1.00     25606\n",
      "           3       0.99      0.99      0.99      2059\n",
      "           4       1.00      1.00      1.00     46215\n",
      "           5       0.97      0.99      0.98      1100\n",
      "           6       0.99      0.99      0.99      1159\n",
      "           7       1.00      0.99      1.00      1588\n",
      "           8       1.00      1.00      1.00         2\n",
      "           9       0.00      0.00      0.00         7\n",
      "          10       0.94      0.95      0.94     31786\n",
      "          11       0.98      0.99      0.99      1179\n",
      "          12       0.73      0.93      0.82       301\n",
      "          13       0.00      0.00      0.00         4\n",
      "          14       0.74      0.26      0.39       130\n",
      "\n",
      "    accuracy                           0.99    566149\n",
      "   macro avg       0.81      0.78      0.79    566149\n",
      "weighted avg       0.99      0.99      0.99    566149\n",
      "\n",
      "\n",
      "Test time: 1010.9162790775299\n"
     ]
    },
    {
     "name": "stderr",
     "output_type": "stream",
     "text": [
      "/Users/dkhoamac/Documents/UIT Courses/CSBU111 Cyber Security/finalProject/IDS_ML/.venv/lib/python3.9/site-packages/sklearn/metrics/_classification.py:1565: UndefinedMetricWarning: Precision is ill-defined and being set to 0.0 in labels with no predicted samples. Use `zero_division` parameter to control this behavior.\n",
      "  _warn_prf(average, modifier, f\"{metric.capitalize()} is\", len(result))\n",
      "/Users/dkhoamac/Documents/UIT Courses/CSBU111 Cyber Security/finalProject/IDS_ML/.venv/lib/python3.9/site-packages/sklearn/metrics/_classification.py:1565: UndefinedMetricWarning: Precision is ill-defined and being set to 0.0 in labels with no predicted samples. Use `zero_division` parameter to control this behavior.\n",
      "  _warn_prf(average, modifier, f\"{metric.capitalize()} is\", len(result))\n",
      "/Users/dkhoamac/Documents/UIT Courses/CSBU111 Cyber Security/finalProject/IDS_ML/.venv/lib/python3.9/site-packages/sklearn/metrics/_classification.py:1565: UndefinedMetricWarning: Precision is ill-defined and being set to 0.0 in labels with no predicted samples. Use `zero_division` parameter to control this behavior.\n",
      "  _warn_prf(average, modifier, f\"{metric.capitalize()} is\", len(result))\n"
     ]
    }
   ],
   "execution_count": 31
  },
  {
   "metadata": {
    "ExecuteTime": {
     "end_time": "2025-01-18T22:56:58.051953Z",
     "start_time": "2025-01-18T22:56:56.172165Z"
    }
   },
   "cell_type": "code",
   "source": [
    "\"\"\"Evaluate the XGBoost Model\"\"\"\n",
    "\n",
    "start_test = time.time()\n",
    "xgboost_pred = xgboost.predict(X_test)\n",
    "end_test = time.time()\n",
    "\n",
    "print(\"XGBoost Evaluation:\")\n",
    "print(classification_report(y_test, xgboost_pred))\n",
    "print(\"\\nTest time:\", end_test - start_test)"
   ],
   "id": "75cd1ee44c3bd108",
   "outputs": [
    {
     "name": "stdout",
     "output_type": "stream",
     "text": [
      "XGBoost Evaluation:\n",
      "              precision    recall  f1-score   support\n",
      "\n",
      "           0       1.00      1.00      1.00    454620\n",
      "           1       0.88      0.78      0.82       393\n",
      "           2       1.00      1.00      1.00     25606\n",
      "           3       1.00      1.00      1.00      2059\n",
      "           4       1.00      1.00      1.00     46215\n",
      "           5       0.99      0.99      0.99      1100\n",
      "           6       0.99      1.00      0.99      1159\n",
      "           7       1.00      1.00      1.00      1588\n",
      "           8       1.00      1.00      1.00         2\n",
      "           9       0.86      0.86      0.86         7\n",
      "          10       0.99      1.00      1.00     31786\n",
      "          11       1.00      1.00      1.00      1179\n",
      "          12       0.75      0.91      0.82       301\n",
      "          13       0.67      0.50      0.57         4\n",
      "          14       0.57      0.28      0.38       130\n",
      "\n",
      "    accuracy                           1.00    566149\n",
      "   macro avg       0.91      0.89      0.90    566149\n",
      "weighted avg       1.00      1.00      1.00    566149\n",
      "\n",
      "\n",
      "Test time: 1.7674808502197266\n"
     ]
    }
   ],
   "execution_count": 32
  },
  {
   "metadata": {},
   "cell_type": "markdown",
   "source": "## **8. Visualization**",
   "id": "SkQ3en1_UBng"
  },
  {
   "metadata": {
    "ExecuteTime": {
     "end_time": "2025-01-18T23:03:04.577361Z",
     "start_time": "2025-01-18T23:03:04.567168Z"
    }
   },
   "cell_type": "code",
   "source": [
    "rf_train_time, rf_retrained_train_time, knn_train_time, xgboost_train_time = 112.1305730342865, 97.48582601547241, 1.0145161151885986, 84.96575999259949\n",
    "rf_test_time, rf_retrained_test_time, knn_test_time, xgboost_test_time = 1.200078010559082, 0.96492600440979, 1010.9162790775299, 1.7674808502197266\n",
    "rf_f1, rf_retrained_f1, knn_f1, xgboost_f1 = 1.0, 1.0, 0.99, 1.0"
   ],
   "id": "4808d44c52403448",
   "outputs": [],
   "execution_count": 33
  },
  {
   "metadata": {
    "ExecuteTime": {
     "end_time": "2025-01-18T23:03:09.691600Z",
     "start_time": "2025-01-18T23:03:09.267959Z"
    }
   },
   "cell_type": "code",
   "source": [
    "models = ['Random Forest', 'Retrained RF', 'KNN', 'XGBoost']\n",
    "\n",
    "train_times = [rf_train_time, rf_retrained_train_time, knn_train_time, xgboost_train_time]\n",
    "test_times = [rf_test_time, rf_retrained_test_time, knn_test_time, xgboost_test_time]\n",
    "f1_scores = [rf_f1, rf_retrained_f1, knn_f1, xgboost_f1]\n",
    "predictions = [rf_pred, rf_retrained_pred, knn_pred, xgboost_pred]\n",
    "\n",
    "for model, model_train_time, model_test_time, model_f1_score, pred in zip(models, train_times, test_times, f1_scores, predictions):\n",
    "    print(model + \" evaluate result:\\n\")\n",
    "    print(\"Train time:\", model_train_time)\n",
    "    print(\"Test time:\", model_test_time)\n",
    "    print(\"F1 score:\", model_f1_score)\n",
    "    print(classification_report(y_test, pred))\n",
    "    "
   ],
   "id": "c16a11cb0f9811f5",
   "outputs": [
    {
     "name": "stdout",
     "output_type": "stream",
     "text": [
      "Random Forest evaluate result:\n",
      "\n",
      "Train time: 112.1305730342865\n",
      "Test time: 1.200078010559082\n",
      "F1 score: 1.0\n",
      "              precision    recall  f1-score   support\n",
      "\n",
      "           0       1.00      1.00      1.00    454620\n",
      "           1       0.88      0.79      0.83       393\n",
      "           2       1.00      1.00      1.00     25606\n",
      "           3       1.00      0.99      1.00      2059\n",
      "           4       1.00      1.00      1.00     46215\n",
      "           5       0.99      0.99      0.99      1100\n",
      "           6       0.99      0.99      0.99      1159\n",
      "           7       1.00      1.00      1.00      1588\n",
      "           8       1.00      1.00      1.00         2\n",
      "           9       0.86      0.86      0.86         7\n",
      "          10       0.99      1.00      1.00     31786\n",
      "          11       1.00      1.00      1.00      1179\n",
      "          12       0.75      0.84      0.79       301\n",
      "          13       0.33      0.25      0.29         4\n",
      "          14       0.49      0.32      0.38       130\n",
      "\n",
      "    accuracy                           1.00    566149\n",
      "   macro avg       0.89      0.87      0.87    566149\n",
      "weighted avg       1.00      1.00      1.00    566149\n",
      "\n",
      "Retrained RF evaluate result:\n",
      "\n",
      "Train time: 97.48582601547241\n",
      "Test time: 0.96492600440979\n",
      "F1 score: 1.0\n",
      "              precision    recall  f1-score   support\n",
      "\n",
      "           0       1.00      1.00      1.00    454620\n",
      "           1       0.85      0.81      0.83       393\n",
      "           2       1.00      1.00      1.00     25606\n",
      "           3       1.00      1.00      1.00      2059\n",
      "           4       1.00      1.00      1.00     46215\n",
      "           5       0.99      0.99      0.99      1100\n",
      "           6       1.00      1.00      1.00      1159\n",
      "           7       1.00      1.00      1.00      1588\n",
      "           8       1.00      1.00      1.00         2\n",
      "           9       1.00      0.86      0.92         7\n",
      "          10       0.99      1.00      1.00     31786\n",
      "          11       1.00      1.00      1.00      1179\n",
      "          12       0.74      0.77      0.76       301\n",
      "          13       0.00      0.00      0.00         4\n",
      "          14       0.40      0.31      0.35       130\n",
      "\n",
      "    accuracy                           1.00    566149\n",
      "   macro avg       0.86      0.85      0.86    566149\n",
      "weighted avg       1.00      1.00      1.00    566149\n",
      "\n",
      "KNN evaluate result:\n",
      "\n",
      "Train time: 1.0145161151885986\n",
      "Test time: 1010.9162790775299\n",
      "F1 score: 0.99\n",
      "              precision    recall  f1-score   support\n",
      "\n",
      "           0       1.00      0.99      1.00    454620\n",
      "           1       0.79      0.63      0.70       393\n",
      "           2       1.00      1.00      1.00     25606\n",
      "           3       0.99      0.99      0.99      2059\n",
      "           4       1.00      1.00      1.00     46215\n",
      "           5       0.97      0.99      0.98      1100\n",
      "           6       0.99      0.99      0.99      1159\n",
      "           7       1.00      0.99      1.00      1588\n",
      "           8       1.00      1.00      1.00         2\n",
      "           9       0.00      0.00      0.00         7\n",
      "          10       0.94      0.95      0.94     31786\n",
      "          11       0.98      0.99      0.99      1179\n",
      "          12       0.73      0.93      0.82       301\n",
      "          13       0.00      0.00      0.00         4\n",
      "          14       0.74      0.26      0.39       130\n",
      "\n",
      "    accuracy                           0.99    566149\n",
      "   macro avg       0.81      0.78      0.79    566149\n",
      "weighted avg       0.99      0.99      0.99    566149\n",
      "\n",
      "XGBoost evaluate result:\n",
      "\n",
      "Train time: 84.96575999259949\n",
      "Test time: 1.7674808502197266\n",
      "F1 score: 1.0\n",
      "              precision    recall  f1-score   support\n",
      "\n",
      "           0       1.00      1.00      1.00    454620\n",
      "           1       0.88      0.78      0.82       393\n",
      "           2       1.00      1.00      1.00     25606\n",
      "           3       1.00      1.00      1.00      2059\n",
      "           4       1.00      1.00      1.00     46215\n",
      "           5       0.99      0.99      0.99      1100\n",
      "           6       0.99      1.00      0.99      1159\n",
      "           7       1.00      1.00      1.00      1588\n",
      "           8       1.00      1.00      1.00         2\n",
      "           9       0.86      0.86      0.86         7\n",
      "          10       0.99      1.00      1.00     31786\n",
      "          11       1.00      1.00      1.00      1179\n",
      "          12       0.75      0.91      0.82       301\n",
      "          13       0.67      0.50      0.57         4\n",
      "          14       0.57      0.28      0.38       130\n",
      "\n",
      "    accuracy                           1.00    566149\n",
      "   macro avg       0.91      0.89      0.90    566149\n",
      "weighted avg       1.00      1.00      1.00    566149\n",
      "\n"
     ]
    },
    {
     "name": "stderr",
     "output_type": "stream",
     "text": [
      "/Users/dkhoamac/Documents/UIT Courses/CSBU111 Cyber Security/finalProject/IDS_ML/.venv/lib/python3.9/site-packages/sklearn/metrics/_classification.py:1565: UndefinedMetricWarning: Precision is ill-defined and being set to 0.0 in labels with no predicted samples. Use `zero_division` parameter to control this behavior.\n",
      "  _warn_prf(average, modifier, f\"{metric.capitalize()} is\", len(result))\n",
      "/Users/dkhoamac/Documents/UIT Courses/CSBU111 Cyber Security/finalProject/IDS_ML/.venv/lib/python3.9/site-packages/sklearn/metrics/_classification.py:1565: UndefinedMetricWarning: Precision is ill-defined and being set to 0.0 in labels with no predicted samples. Use `zero_division` parameter to control this behavior.\n",
      "  _warn_prf(average, modifier, f\"{metric.capitalize()} is\", len(result))\n",
      "/Users/dkhoamac/Documents/UIT Courses/CSBU111 Cyber Security/finalProject/IDS_ML/.venv/lib/python3.9/site-packages/sklearn/metrics/_classification.py:1565: UndefinedMetricWarning: Precision is ill-defined and being set to 0.0 in labels with no predicted samples. Use `zero_division` parameter to control this behavior.\n",
      "  _warn_prf(average, modifier, f\"{metric.capitalize()} is\", len(result))\n"
     ]
    }
   ],
   "execution_count": 34
  },
  {
   "metadata": {},
   "cell_type": "code",
   "outputs": [],
   "execution_count": null,
   "source": [
    "import matplotlib.pyplot as plt\n",
    "\n",
    "# Plot Training Time\n",
    "plt.figure(figsize=(6, 6))\n",
    "plt.bar(models, train_times, color='b', alpha=0.7)\n",
    "plt.title('Training Time (seconds)')\n",
    "plt.ylabel('Time (seconds)')\n",
    "plt.tight_layout()\n",
    "plt.savefig('training_time.png', dpi=300)\n",
    "plt.show()\n",
    "\n",
    "# Plot Testing Time\n",
    "plt.figure(figsize=(6, 6))\n",
    "plt.bar(models, test_times, color='g', alpha=0.7)\n",
    "plt.title('Testing Time (seconds)')\n",
    "plt.ylabel('Time (seconds)')\n",
    "plt.tight_layout()\n",
    "plt.savefig('testing_time.png', dpi=300)\n",
    "plt.show()\n",
    "\n",
    "# Plot F1 Scores\n",
    "plt.figure(figsize=(6, 6))\n",
    "plt.bar(models, f1_scores, color='r', alpha=0.7)\n",
    "plt.title('F1 Score')\n",
    "plt.ylabel('F1 Score')\n",
    "plt.tight_layout()\n",
    "plt.savefig('f1_score.png', dpi=300)\n",
    "plt.show()"
   ],
   "id": "e4f54bbbcea7cd3f"
  },
  {
   "metadata": {
    "ExecuteTime": {
     "end_time": "2025-01-19T00:15:20.787616Z",
     "start_time": "2025-01-19T00:15:20.094590Z"
    }
   },
   "cell_type": "code",
   "source": [
    "import matplotlib.pyplot as plt\n",
    "\n",
    "# Create subplots for comparison\n",
    "fig, axes = plt.subplots(1, 2, figsize=(12, 6))\n",
    "\n",
    "# Plot training time\n",
    "axes[0].bar(models, train_times, color='b', alpha=0.7)\n",
    "axes[0].set_title('Training Time (seconds)')\n",
    "axes[0].set_ylabel('Time (seconds)')\n",
    "\n",
    "# Plot testing time\n",
    "axes[1].bar(models, test_times, color='g', alpha=0.7)\n",
    "axes[1].set_title('Testing Time (seconds)')\n",
    "axes[1].set_ylabel('Time (seconds)')\n",
    "\n",
    "# # Plot F1 scores\n",
    "# axes[2].bar(models, f1_scores, color='r', alpha=0.7)\n",
    "# axes[2].set_title('F1 Score')\n",
    "# axes[2].set_ylabel('F1 Score')\n",
    "\n",
    "# Show the plot\n",
    "plt.tight_layout()\n",
    "plt.savefig('train_test.png', dpi=600)\n",
    "plt.show()"
   ],
   "id": "d5dd10d09c7a275e",
   "outputs": [
    {
     "data": {
      "text/plain": [
       "<Figure size 1200x600 with 2 Axes>"
      ],
      "image/png": "[encoded data removed]"
     },
     "metadata": {},
     "output_type": "display_data"
    }
   ],
   "execution_count": 48
  }
 ],
 "metadata": {
  "kernelspec": {
   "display_name": "Python 3",
   "language": "python",
   "name": "python3"
  },
  "language_info": {
   "codemirror_mode": {
    "name": "ipython",
    "version": 2
   },
   "file_extension": ".py",
   "mimetype": "text/x-python",
   "name": "python",
   "nbconvert_exporter": "python",
   "pygments_lexer": "ipython2",
   "version": "2.7.6"
  },
  "colab": {
   "provenance": []
  }
 },
 "nbformat": 4,
 "nbformat_minor": 5
}
